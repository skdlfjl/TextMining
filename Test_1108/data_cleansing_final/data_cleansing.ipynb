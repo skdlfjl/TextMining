{
 "cells": [
  {
   "cell_type": "code",
   "execution_count": 95,
   "metadata": {},
   "outputs": [],
   "source": [
    "# 문자열 클렌징 함수 정의\n",
    "def cleansing(text):\n",
    "    pattern = '([a-zA-Z0-9_.+-]+@[a-zA-Z0-9-]+\\.[a-zA-Z0-9-.]+)' # E-mail주소제거\n",
    "    text = re.sub(pattern=pattern, repl='', string=text)\n",
    "    pattern = '(http|ftp|https)://(?:[-\\w.]|(?:%[\\da-fA-F]{2}))+' # URL제거\n",
    "    text = re.sub(pattern=pattern, repl='', string=text)\n",
    "    pattern = '([ㄱ-ㅎㅏ-ㅣ]+)' # 한글 자음, 모음 제거\n",
    "    text = re.sub(pattern=pattern, repl='', string=text)\n",
    "    pattern = '[-=.,•\\?:^$@*\\\"“※~&%→∙ㆍ”“’■▪️◾▶!]' # 특정 특수문자 제거 (+,#는 C++,C#때문에 포함X)\n",
    "    text = re.sub(pattern=pattern, repl='', string=text)\n",
    "    pattern = '[/』\\\\‘|\\(\\)\\[\\]\\<\\>`\\'…》】]'  # 특정 특수문자 제거2\n",
    "    text = re.sub(pattern=pattern, repl=' ', string=text)\n",
    "    #괄호들과 / 에는 ' ' 을 넣어줬다\n",
    "    \n",
    "    return text"
   ]
  },
  {
   "cell_type": "code",
   "execution_count": 109,
   "metadata": {},
   "outputs": [
    {
     "name": "stdout",
     "output_type": "stream",
     "text": [
      "243\n",
      "210\n",
      "144\n",
      "143\n",
      "114\n"
     ]
    }
   ],
   "source": [
    "# 파이썬개발자[6] 데이터엔지니어[7] 데이터사이언티스트[12] 머신러닝엔지니어[13] 빅데이터엔지니어[15]\n",
    "category = [6, 7, 12, 13, 15]\n",
    "\n",
    "for category_num in category:\n",
    "    data = open('../category{0}.txt'.format(category_num), 'r', encoding = 'utf-8')\n",
    "    lines = data.readlines()  # 데이터 불러와서 line 단위로 넣는다\n",
    "        \n",
    "    import re\n",
    "    \n",
    "    line_list = []\n",
    "    for i in range(len(lines)):\n",
    "        # split을 사용하면 '우대사항'이라는 글자가 여러개 있을 때, 문장이 여러개로 나눠지기 때문에 partition 사용\n",
    "        part = lines[i].partition('우대사항') \n",
    "        part = list(part)  # partition은 저장형태가 튜플이기 때문에  list로 바꿔준다\n",
    "        if '우대사항' in part:\n",
    "            part.remove('우대사항')  # '우대사항' 글자 자체는 필요없기때문에 리스트에서 지워준다\n",
    "        line_list.append(part)\n",
    "        \n",
    "    for i in range(len(line_list)):\n",
    "        for j in range(len(line_list[i])):\n",
    "            line_list[i][j] = cleansing(line_list[i][j])  # 위에 정의한 cleasing함수로 데이터 클렌징\n",
    "    \n",
    "    for i in range(len(line_list)):\n",
    "        for j in range(len(line_list[i])):\n",
    "            line_list[i][j] = ' '.join(line_list[i][j].split())  # 다중공백 치환\n",
    "\n",
    "    for i in range(len(line_list)):\n",
    "        a = []\n",
    "        a.append(' '.join(line_list[i]))\n",
    "        line_list[i] = a\n",
    "        \n",
    "    print(len(line_list)) # 각 카테고리별 크롤링 데이터 개수 print\n",
    "    data_len = len(line_list)\n",
    "    \n",
    "    word = ' '.join(sum(line_list, [])) \n",
    "    # 기존 category{0}.txt와 동일하게 문장을 전부 합친 변수입니다.\n",
    "    line = '\\n'.join(sum(line_list, [])) \n",
    "    # category{0}_list{1}.txt로 새로 저장할 변수입니다.\n",
    "    # \\n으로 구분되어있기 때문에 문장분리(채용공고 별 분리)가 가능합니다.\n",
    "\n",
    "    f1 = open('cleansing_category{0}.txt'.format(category_num), 'w')\n",
    "    f1.write(word)\n",
    "    f1.close()\n",
    "    \n",
    "    f2 = open('cleansing_category{0}_list{1}.txt'.format(category_num,data_len), 'w')\n",
    "    f2.write(line)\n",
    "    f2.close() "
   ]
  },
  {
   "cell_type": "code",
   "execution_count": 106,
   "metadata": {},
   "outputs": [
    {
     "data": {
      "text/plain": [
       "['필수 전산관련 석사이상의 학위 취득자 이에 상응한자 필수 협업 관련 팀원들과 조화롭게 개발할 수 있는 분 필수 딥러닝 또는 기계학습 기본 지식을 보유하신 분 컴퓨터 비젼 연구개발 경험 보유하신 분 대용량 기반 유사 이미지 검색 기술 경험 보유하신 분 최신 이론에 대한 이해와 이에 대한 구현 능력 보유하신 분 딥러닝 관련 프레임워크 라이브러리 이용하여 구현 능력 보유하신 분 pytorch tensorflow mxnet caffe등 관련 분야 경력 2년 이상 또는 석사 학위 이상 소지자 관련 분야 상위급 저널 학회 논문 저자 Kaggle등 이에 상하는 상위권 경험한 분']"
      ]
     },
     "execution_count": 106,
     "metadata": {},
     "output_type": "execute_result"
    }
   ],
   "source": [
    "aa=[]\n",
    "aa.append(' '.join(line_list[0]))\n",
    "\n",
    "line_list[0] = aa\n",
    "\n",
    "line_list[0]"
   ]
  }
 ],
 "metadata": {
  "kernelspec": {
   "display_name": "Python 3",
   "language": "python",
   "name": "python3"
  },
  "language_info": {
   "codemirror_mode": {
    "name": "ipython",
    "version": 3
   },
   "file_extension": ".py",
   "mimetype": "text/x-python",
   "name": "python",
   "nbconvert_exporter": "python",
   "pygments_lexer": "ipython3",
   "version": "3.7.2"
  }
 },
 "nbformat": 4,
 "nbformat_minor": 4
}
