{
 "cells": [
  {
   "cell_type": "code",
   "execution_count": 2,
   "metadata": {},
   "outputs": [],
   "source": [
    "## 분석1."
   ]
  },
  {
   "cell_type": "code",
   "execution_count": 4,
   "metadata": {},
   "outputs": [
    {
     "name": "stdout",
     "output_type": "stream",
     "text": [
      "# 0 번째 category (tokens): 39330\n",
      "# voca size: 1218 \n",
      "\n",
      "# 1 번째 category (tokens): 32265\n",
      "# voca size: 1121 \n",
      "\n",
      "# 2 번째 category (tokens): 31409\n",
      "# voca size: 1083 \n",
      "\n",
      "# 3 번째 category (tokens): 23563\n",
      "# voca size: 885 \n",
      "\n",
      "# 4 번째 category (tokens): 12172\n",
      "# voca size: 589 \n",
      "\n",
      "# 5 번째 category (tokens): 11449\n",
      "# voca size: 552 \n",
      "\n",
      "# 6 번째 category (tokens): 11239\n",
      "# voca size: 565 \n",
      "\n",
      "# 7 번째 category (tokens): 10772\n",
      "# voca size: 536 \n",
      "\n",
      "# 8 번째 category (tokens): 9931\n",
      "# voca size: 545 \n",
      "\n",
      "# 9 번째 category (tokens): 8665\n",
      "# voca size: 451 \n",
      "\n",
      "# 10 번째 category (tokens): 7375\n",
      "# voca size: 406 \n",
      "\n",
      "# 11 번째 category (tokens): 5730\n",
      "# voca size: 333 \n",
      "\n",
      "# 12 번째 category (tokens): 5838\n",
      "# voca size: 393 \n",
      "\n",
      "# 13 번째 category (tokens): 5838\n",
      "# voca size: 418 \n",
      "\n",
      "# 14 번째 category (tokens): 8058\n",
      "# voca size: 505 \n",
      "\n",
      "# 15 번째 category (tokens): 7181\n",
      "# voca size: 389 \n",
      "\n",
      "# 16 번째 category (tokens): 5625\n",
      "# voca size: 330 \n",
      "\n",
      "# 17 번째 category (tokens): 4639\n",
      "# voca size: 271 \n",
      "\n"
     ]
    }
   ],
   "source": [
    "import sys\n",
    "mod = sys.modules[__name__]\n",
    "\n",
    "for category_num in range(18):\n",
    "    data = open('../vocabulary_all_1211/tokens{}_.txt'.format(category_num), 'r', encoding='utf-8')\n",
    "    token = data.readlines()\n",
    "    print(\"#\", category_num, \"번째 category (tokens):\", len(token))\n",
    "    \n",
    "    for i in range(len(token)):\n",
    "        token[i] = token[i].replace('\\n', '')\n",
    "    \n",
    "    setattr(mod, 'tokens{}'.format(category_num), token)\n",
    "    \n",
    "    #voca로도 저장해줍니다\n",
    "    voca = set(token)\n",
    "    setattr(mod, 'voca{}'.format(category_num), voca)\n",
    "    print(\"# voca size:\", len(voca), '\\n')"
   ]
  },
  {
   "cell_type": "code",
   "execution_count": 5,
   "metadata": {},
   "outputs": [
    {
     "name": "stdout",
     "output_type": "stream",
     "text": [
      "# 공통등장 voca(token) \n",
      "\n",
      "80 : {'필요', '전공', '기획', '1년', '다양한', '플랫폼', '개발자', '진행', '운영', '우대', '능력', '해당', '프로세스', '자동화', '시스템', 'python', '서버', '관련', '전공자', '커뮤니케이션', '해결', '활용', '가능자', '관심', '실무', '작성', '성장', '지식', '가능', '5년', '보유자', '보유', '기반', 'javascript', 'sql', '경험', '이해도', '경험자', 'framework', '협업', '역량', '서비스', '개발', '주도적', '업무', '사용', '적용', '프로그래밍', '문제', '기본', '원활한', '도구', '구축', '관리', '2년', '소프트웨어', '영어', '언어', '성능', 'git', '설계', '테스트', '3년', '기술', '수행', '프로젝트', 'db', '분야', '경력', '데이터', '소통', 'java', '이용', '구현', '분석', '컴퓨터', '능숙', '환경', '적극적', '이해'}\n"
     ]
    }
   ],
   "source": [
    "#공통등장 voca를 구합니다\n",
    "common_voca = voca0 & voca1 & voca2 & voca3 & voca4 & voca5 & voca6 & voca7 & voca8 & voca9 & voca10 & voca11 & voca12 & voca13 & voca14 & voca15 & voca16 & voca17\n",
    "print('# 공통등장 voca(token)', '\\n')\n",
    "print(len(common_voca), ':', common_voca)\n",
    "#print(len(common_voca))"
   ]
  },
  {
   "cell_type": "code",
   "execution_count": null,
   "metadata": {},
   "outputs": [],
   "source": []
  }
 ],
 "metadata": {
  "kernelspec": {
   "display_name": "Python 3",
   "language": "python",
   "name": "python3"
  },
  "language_info": {
   "codemirror_mode": {
    "name": "ipython",
    "version": 3
   },
   "file_extension": ".py",
   "mimetype": "text/x-python",
   "name": "python",
   "nbconvert_exporter": "python",
   "pygments_lexer": "ipython3",
   "version": "3.7.2"
  }
 },
 "nbformat": 4,
 "nbformat_minor": 4
}
