{
 "cells": [
  {
   "cell_type": "code",
   "execution_count": 1,
   "metadata": {},
   "outputs": [],
   "source": [
    "# 문자열 클렌징 함수 정의\n",
    "def cleansing(text):\n",
    "    pattern = '([a-zA-Z0-9_.+-]+@[a-zA-Z0-9-]+\\.[a-zA-Z0-9-.]+)' # E-mail주소제거\n",
    "    text = re.sub(pattern=pattern, repl='', string=text)\n",
    "    pattern = '(http|ftp|https)://(?:[-\\w.]|(?:%[\\da-fA-F]{2}))+' # URL제거\n",
    "    text = re.sub(pattern=pattern, repl='', string=text)\n",
    "    pattern = '([ㄱ-ㅎㅏ-ㅣ]+)' # 한글 자음, 모음 제거\n",
    "    text = re.sub(pattern=pattern, repl='', string=text)\n",
    "    pattern = '[-=.,•\\?:^$@*\\\"“※~&%→∙ㆍ”“’■▪️◾▶!]' # 특정 특수문자 제거 (+,#는 C++,C#때문에 포함X)\n",
    "    text = re.sub(pattern=pattern, repl='', string=text)\n",
    "    pattern = '[/』\\\\‘|\\(\\)\\[\\]\\<\\>`\\'…》】]'  # 특정 특수문자 제거2\n",
    "    text = re.sub(pattern=pattern, repl=' ', string=text)\n",
    "    #괄호들과 / 에는 ' ' 을 넣어줬다\n",
    "    return text"
   ]
  },
  {
   "cell_type": "code",
   "execution_count": 5,
   "metadata": {},
   "outputs": [],
   "source": [
    "# 파이썬개발자[6] 데이터엔지니어[7] 데이터사이언티스트[12] 머신러닝엔지니어[13] 빅데이터엔지니어[15]\n",
    "category = [6, 7, 12, 13, 15]\n",
    "\n",
    "for i in category:\n",
    "    data = open('../category{0}.txt'.format(i), 'r', encoding = 'utf-8')\n",
    "    lines = data.readlines()  # 데이터 불러와서 line 단위로 넣는다\n",
    "    \n",
    "    import re\n",
    "    for j in range(len(lines)):\n",
    "        lines[j] = lines[j].split('우대사항') #'우대사항' 기준으로 데이터 나누기\n",
    "        \n",
    "    lines = sum(lines, []) # split에 의해 이중 리스트 형태로 저장되었다. 이중리스트를 해제해준다\n",
    "    \n",
    "    cleansing_lines = []\n",
    "    for j in range(len(lines)):  # 위에 정의한 cleasing함수로 데이터 클렌징\n",
    "        cleansing_data = cleansing(lines[j]) \n",
    "        cleansing_lines.append(cleansing_data)\n",
    "    \n",
    "    for j in range(len(cleansing_lines)):  # 다중공백 치환\n",
    "        cleansing_lines[j] = ' '.join(cleansing_lines[j].split())\n",
    "    \n",
    "    # 문자열 하나로 합쳐주기 (문장으로 나눌 필요가 없기때문)    \n",
    "    cleansing_data = ' '.join(cleansing_lines)\n",
    "    \n",
    "    \n",
    "    f = open('cleansing_categroy{0}.txt'.format(i), 'w')\n",
    "    f.write(cleansing_data)\n",
    "    f.close()"
   ]
  }
 ],
 "metadata": {
  "kernelspec": {
   "display_name": "Python 3",
   "language": "python",
   "name": "python3"
  },
  "language_info": {
   "codemirror_mode": {
    "name": "ipython",
    "version": 3
   },
   "file_extension": ".py",
   "mimetype": "text/x-python",
   "name": "python",
   "nbconvert_exporter": "python",
   "pygments_lexer": "ipython3",
   "version": "3.7.2"
  }
 },
 "nbformat": 4,
 "nbformat_minor": 4
}
