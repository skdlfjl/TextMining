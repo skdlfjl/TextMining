{
 "cells": [
  {
   "cell_type": "code",
   "execution_count": null,
   "metadata": {},
   "outputs": [],
   "source": [
    "## TF-IDF?"
   ]
  },
  {
   "cell_type": "code",
   "execution_count": 3,
   "metadata": {},
   "outputs": [],
   "source": [
    "import nltk\n",
    "import string\n",
    "import os\n",
    "\n",
    "from sklearn.feature_extraction.text import TfidfVectorizer\n",
    "from nltk.stem.porter import PorterStemmer"
   ]
  },
  {
   "cell_type": "code",
   "execution_count": 54,
   "metadata": {},
   "outputs": [
    {
     "name": "stdout",
     "output_type": "stream",
     "text": [
      "[(6, 243), (7, 210), (12, 144), (13, 143), (15, 114)]\n"
     ]
    }
   ],
   "source": [
    "# 파이썬개발자[6] 데이터엔지니어[7] 데이터사이언티스트[12] 머신러닝엔지니어[13] 빅데이터엔지니어[15]\n",
    "category = [6, 7, 12, 13, 15]\n",
    "\n",
    "# 각 카테고리의 데이터 개수(채용공고의 개수)를 가져와서 튜플형태로 저장한 뒤, 리스트에 넣는다\n",
    "category_len = []\n",
    "for category_num in category:\n",
    "    data = open('../category{0}.txt'.format(category_num), 'r', encoding = 'utf-8')\n",
    "    lines = data.readlines()  # 데이터 불러와서 line 단위로 넣는다\n",
    "    #print(len(lines))\n",
    "    tu = category_num, len(lines)\n",
    "    category_len.append(tu)\n",
    "    \n",
    "print(category_len)# ( 카테고리번호, 크롤링 데이터 개수 ) 모양의 튜플\n",
    "\n",
    "for category_num, data_num in category_len:\n",
    "    \n",
    "    data = open('../data_cleansing_final/cleansing_category{0}_list{1}.txt'.format(category_num, data_num), 'r', encoding = 'utf-8')\n",
    "    data = data.readlines()  # 데이터 불러와서 line 단위로 넣는다\n",
    "    \n",
    "    for i in range(len(data)):\n",
    "        data[i] = data[i].replace('\\n', '')    # 각 문장마다 들어있는 줄바꿈 기호 없애주기\n",
    "    \n",
    "    data = ' '.join(data)\n",
    "    \n",
    "    ## 각 변수에 저장하자\n",
    "    globals()['category{}'.format(category_num)] = data"
   ]
  },
  {
   "cell_type": "code",
   "execution_count": 58,
   "metadata": {},
   "outputs": [],
   "source": [
    "category_sum = []\n",
    "category_sum.append(category6)\n",
    "category_sum.append(category7)\n",
    "category_sum.append(category12)\n",
    "category_sum.append(category13)\n",
    "category_sum.append(category15)"
   ]
  },
  {
   "cell_type": "code",
   "execution_count": 60,
   "metadata": {},
   "outputs": [],
   "source": [
    "common_voca = ['git', '유경험자', '컨테이너', '머신러닝', '소프트웨어', '대용량', '제출', '데이터', '논문', '분산', '실무', '석사', '1년', 'cd', 'airflow', '구축', '경력자', '커뮤니케이션', '성능', '원활한', '기반', '인프라', '유관', '개선', '학사', '운영', '사용', '성장', '비즈니스', '우대', '게임', '익숙', '언어', '가능', '수학', 'etl', 'ai', 'tensorflow', '문제해결', '오픈소스', '진행', '학습', '구현', '이론', '실제', '이용', 'experience', '다양', 'nlp', 'sql', '기초', '빅데이터', '도메인', '이해', '해결', '기술', '개발', '추천', '다양한', '적용', 'engineering', '파이썬', '딥러닝', '프레임워크', '엔지니어링', '소통', 'kafka', '열정', '가능자', '금융', '공학', '방법', 'azure', '수행', '파이프라인', '분석', 'r', '해당', 'learning', '클라우드', 'c++', '수집', 'scala', '무관', 'c', '지식', '전공', '관련', '컴퓨터공학', '작성', 'ci', 'java', 'nosql', '관리', '내용', '모바', '업무', '박사', '보유', '역량', 'mysql', '모델링', 'ml', '영어', '시각화', '플랫폼', '통계', '활용', '구성', '보유자', '필요', '이해도', '연구', '검색', '채용', 'hadoop', '설계', '관심', '프로젝트', '전공자', 'aws', '5년', '실시간', '컴퓨터', '적극적', '아키텍처', 'cloud', '분야', '3년', '학력', 'docker', 'elasticsearch', '경험자', 'machine', 'gcp', '2년', '마케팅', '경우', '환경', '능숙', '시스템', 'spark', '기계학습', '프로그래밍', 'deep', 'pytorch', 'data', '통계학', '중급', '학위', '문제', 'rdbms', '자료구조', '모델', '데이터베이스', '로직', 'python', '협업', '경력', '도구', '경험', '러닝', 'computer', '알고리즘', '1개', '능력', 'google', 'system', '기본적', '기본', '처리', 'framework', '서버', '조직', '배포', '서비스']"
   ]
  },
  {
   "cell_type": "code",
   "execution_count": 93,
   "metadata": {},
   "outputs": [],
   "source": [
    "from sklearn.feature_extraction.text import TfidfVectorizer\n",
    "from collections import defaultdict\n",
    "\n",
    "\n",
    "vectorizer = TfidfVectorizer()\n",
    "sp_matrix = vectorizer.fit_transform(category_sum)\n",
    "#print(sp_matrix)"
   ]
  },
  {
   "cell_type": "code",
   "execution_count": 94,
   "metadata": {},
   "outputs": [],
   "source": [
    "word2id = defaultdict(lambda : 0)\n",
    "for idx, feature in enumerate(vectorizer.get_feature_names()):\n",
    "    word2id[feature] = idx"
   ]
  },
  {
   "cell_type": "code",
   "execution_count": 95,
   "metadata": {
    "scrolled": true
   },
   "outputs": [],
   "source": [
    "import sys\n",
    "mod = sys.modules[__name__]\n",
    "\n",
    "for i, sent in enumerate(category_sum):\n",
    "    #print('====== document[%d]' % i, 'category', category[i], '======')\n",
    "    #print( [ (token, sp_matrix[i, word2id[token]]) for token in common_voca ] , '\\n')\n",
    "    a = [ (token, sp_matrix[i, word2id[token]]) for token in common_voca ]\n",
    "    num = category[i]\n",
    "    setattr(mod, 'category{}_tfidf'.format(num), a) "
   ]
  },
  {
   "cell_type": "code",
   "execution_count": 96,
   "metadata": {
    "scrolled": true
   },
   "outputs": [
    {
     "data": {
      "text/plain": [
       "0.02659738591643907"
      ]
     },
     "execution_count": 96,
     "metadata": {},
     "output_type": "execute_result"
    }
   ],
   "source": [
    "category6_tfidf[0][1]"
   ]
  },
  {
   "cell_type": "code",
   "execution_count": 92,
   "metadata": {},
   "outputs": [
    {
     "name": "stdout",
     "output_type": "stream",
     "text": [
      "('운영', 0.11303889014486605)\n",
      "('사용', 0.10223370211631268)\n",
      "('개발', 0.42140233311358155)\n",
      "('관련', 0.10638954366575629)\n",
      "('python', 0.16041548380852316)\n",
      "('경력', 0.107220711975645)\n",
      "('경험', 0.5352723915683363)\n",
      "('서비스', 0.11719473169430966)\n",
      "\n",
      "\n",
      "('데이터', 0.3002330334011707)\n",
      "('구축', 0.10861672880724947)\n",
      "('운영', 0.20698659640626788)\n",
      "('개발', 0.27666525262223923)\n",
      "('분석', 0.11988827613630366)\n",
      "('관련', 0.12603639286124232)\n",
      "('python', 0.10656735656560326)\n",
      "('경력', 0.11476484553218812)\n",
      "('경험', 0.511318374290731)\n",
      "\n",
      "\n",
      "('머신러닝', 0.10774056917072086)\n",
      "('데이터', 0.34267486583465384)\n",
      "('운영', 0.10474777558264528)\n",
      "('개발', 0.18704959925472373)\n",
      "('분석', 0.22894870948778182)\n",
      "('관련', 0.23942348704604635)\n",
      "('python', 0.12120814031706097)\n",
      "('경력', 0.13317931466936328)\n",
      "('경험', 0.43245867347692124)\n",
      "('능력', 0.10624417237668307)\n",
      "\n",
      "\n",
      "('머신러닝', 0.11609630928506925)\n",
      "('데이터', 0.20552184481546046)\n",
      "('사용', 0.1019764878855338)\n",
      "('개발', 0.30592946365660145)\n",
      "('딥러닝', 0.11295857119628361)\n",
      "('분석', 0.1678689877500326)\n",
      "('관련', 0.2792586899019234)\n",
      "('경험자', 0.10354535692992664)\n",
      "('python', 0.14433595208414016)\n",
      "('경력', 0.12080291641824774)\n",
      "('경험', 0.47693618949541966)\n",
      "('능력', 0.10354535692992664)\n",
      "\n",
      "\n",
      "('데이터', 0.2834297441427688)\n",
      "('운영', 0.13129466088966496)\n",
      "('개발', 0.2271606037614838)\n",
      "('분석', 0.16880742114385494)\n",
      "('관련', 0.22924464599782768)\n",
      "('python', 0.11462232299891384)\n",
      "('경력', 0.1437989143077283)\n",
      "('경험', 0.5064222634315648)\n"
     ]
    }
   ],
   "source": [
    "for i in category6_tfidf:\n",
    "    if i[1] > 0.1:\n",
    "        print(i)\n",
    "print('\\n')\n",
    "for i in category7_tfidf:\n",
    "    if i[1] > 0.1:\n",
    "        print(i)\n",
    "print('\\n')\n",
    "for i in category12_tfidf:\n",
    "    if i[1] > 0.1:\n",
    "        print(i)\n",
    "print('\\n')\n",
    "for i in category13_tfidf:\n",
    "    if i[1] > 0.1:\n",
    "        print(i)\n",
    "print('\\n')\n",
    "for i in category15_tfidf:\n",
    "    if i[1] > 0.1:\n",
    "        print(i)"
   ]
  },
  {
   "cell_type": "code",
   "execution_count": null,
   "metadata": {},
   "outputs": [],
   "source": []
  },
  {
   "cell_type": "code",
   "execution_count": null,
   "metadata": {},
   "outputs": [],
   "source": []
  },
  {
   "cell_type": "code",
   "execution_count": null,
   "metadata": {},
   "outputs": [],
   "source": [
    "from konlpy.corpus import kobill\n",
    "from tfidf_kor import tfidfScorer\n",
    "\n",
    "corpus = [ kobill.open(id).read() for id in kobill.fileids() ]\n",
    "for id, s in enumerate( tfidfScorer(corpus) ):\n",
    "    s = sorted(s, key=lambda x:x[1], reverse=True)\n",
    "    print('[%d] %s ...' % (id, s[:10]))"
   ]
  }
 ],
 "metadata": {
  "kernelspec": {
   "display_name": "Python 3",
   "language": "python",
   "name": "python3"
  },
  "language_info": {
   "codemirror_mode": {
    "name": "ipython",
    "version": 3
   },
   "file_extension": ".py",
   "mimetype": "text/x-python",
   "name": "python",
   "nbconvert_exporter": "python",
   "pygments_lexer": "ipython3",
   "version": "3.7.2"
  }
 },
 "nbformat": 4,
 "nbformat_minor": 4
}
