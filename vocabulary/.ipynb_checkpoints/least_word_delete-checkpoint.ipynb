{
 "cells": [
  {
   "cell_type": "code",
   "execution_count": null,
   "metadata": {},
   "outputs": [],
   "source": [
    "## least_word_delete (3번 이하 등장 token삭제)"
   ]
  },
  {
   "cell_type": "code",
   "execution_count": 2,
   "metadata": {},
   "outputs": [
    {
     "name": "stdout",
     "output_type": "stream",
     "text": [
      "14047\n"
     ]
    }
   ],
   "source": [
    "## 우선 tokens6 데이터로 테스트 해본다\n",
    "\n",
    "data = open('../stopwords_filtering/tokens6.txt', 'r', encoding='utf-8')\n",
    "data = data.readlines()\n",
    "print(len(data))\n",
    "\n",
    "for i in range(len(data)):\n",
    "    data[i] = data[i].replace('\\n', '')\n",
    "\n",
    "tokens6 = data\n",
    "#print(tokens6)"
   ]
  },
  {
   "cell_type": "code",
   "execution_count": 3,
   "metadata": {},
   "outputs": [
    {
     "name": "stdout",
     "output_type": "stream",
     "text": [
      "tokens6 : [('경험', 1016), ('개발', 565), ('이해', 226), ('python', 212), ('서비스', 208), ('사용', 191), ('운영', 175), ('관련', 140), ('경력', 137), ('활용', 130)]\n"
     ]
    }
   ],
   "source": [
    "import nltk\n",
    "print('tokens6 :', nltk.FreqDist(tokens6).most_common(10)) # 빈도수 top10 찍어보기"
   ]
  },
  {
   "cell_type": "code",
   "execution_count": 8,
   "metadata": {},
   "outputs": [
    {
     "name": "stdout",
     "output_type": "stream",
     "text": [
      "1814\n"
     ]
    }
   ],
   "source": [
    "#tokens6.count('경험')\n",
    "\n",
    "voca = set(tokens6)\n",
    "voca = list(voca)\n",
    "\n",
    "# 1~3번 등장한 단어를 찾아서 least_word 리스트에 추가\n",
    "least_word= []\n",
    "for i in voca:\n",
    "    if tokens6.count(i) < 4:\n",
    "        #print(i, tokens6.count(i))\n",
    "        least_word.append(i)\n",
    "        \n",
    "print(len(least_word))"
   ]
  },
  {
   "cell_type": "code",
   "execution_count": 9,
   "metadata": {},
   "outputs": [
    {
     "name": "stdout",
     "output_type": "stream",
     "text": [
      "2403 -> 589\n"
     ]
    }
   ],
   "source": [
    "# least_word 리스트에 포함되지 않은(4번 이상 등장한)token들만 tokens_ 변수에 저장\n",
    "tokens_ = [w for w in tokens6 if w not in least_word]\n",
    "\n",
    "print(len(set(tokens6)), '->', len(set(tokens_)))"
   ]
  },
  {
   "cell_type": "code",
   "execution_count": null,
   "metadata": {},
   "outputs": [],
   "source": []
  },
  {
   "cell_type": "code",
   "execution_count": 71,
   "metadata": {},
   "outputs": [
    {
     "name": "stdout",
     "output_type": "stream",
     "text": [
      "# 6 번째 category (tokens) : 14047\n",
      "# least_word 리스트 : 1814\n",
      "삭제 전 voca : ( 2403 ) -> 삭제 후 voca : ( 589 ) \n",
      "\n",
      "# 7 번째 category (tokens) : 12229\n",
      "# least_word 리스트 : 1529\n",
      "삭제 전 voca : ( 2057 ) -> 삭제 후 voca : ( 528 ) \n",
      "\n",
      "# 12 번째 category (tokens) : 8592\n",
      "# least_word 리스트 : 1278\n",
      "삭제 전 voca : ( 1675 ) -> 삭제 후 voca : ( 397 ) \n",
      "\n",
      "# 13 번째 category (tokens) : 8049\n",
      "# least_word 리스트 : 1330\n",
      "삭제 전 voca : ( 1685 ) -> 삭제 후 voca : ( 355 ) \n",
      "\n",
      "# 15 번째 category (tokens) : 6254\n",
      "# least_word 리스트 : 1040\n",
      "삭제 전 voca : ( 1361 ) -> 삭제 후 voca : ( 321 ) \n",
      "\n"
     ]
    }
   ],
   "source": [
    "# category6,7,12,13,15 (11월08일 기준 크롤링 데이터) 에 적용해보기\n",
    "\n",
    "import sys\n",
    "mod = sys.modules[__name__]\n",
    "\n",
    "category = [6, 7, 12, 13, 15]\n",
    "\n",
    "for i in category:\n",
    "    data = open('../stopwords_filtering/tokens{}.txt'.format(i), 'r', encoding='utf-8')\n",
    "    token = data.readlines()\n",
    "    print(\"#\", i, \"번째 category (tokens) :\", len(token))\n",
    "    \n",
    "    for j in range(len(token)):\n",
    "        token[j] = token[j].replace('\\n', '')\n",
    "    \n",
    "    #globals()['tokens{}'.format(i)] = token\n",
    "    \n",
    "    voca = set(token)\n",
    "    voca = list(voca)\n",
    "\n",
    "    # 1~3번 등장한 단어를 찾아서 least_word 리스트에 추가\n",
    "    least_word= []\n",
    "    for j in voca:\n",
    "        if token.count(j) < 4:\n",
    "            least_word.append(j)\n",
    "    print(\"# least_word 리스트 :\", len(least_word))\n",
    "    \n",
    "    # least_word 리스트에 포함되지 않은(4번 이상 등장한)token들만 tokens_ 변수에 저장\n",
    "    token_ = [w for w in token if w not in least_word]\n",
    "    print(\"삭제 전 voca : (\", len(set(token)), \") ->\", \"삭제 후 voca : (\" , len(set(token_)), ') \\n')\n",
    "\n",
    "    setattr(mod, 'tokens{}_'.format(i), token_)\n",
    "    \n",
    "#print(tokens7_)"
   ]
  },
  {
   "cell_type": "code",
   "execution_count": 90,
   "metadata": {},
   "outputs": [
    {
     "name": "stdout",
     "output_type": "stream",
     "text": [
      "{'원티드': 6, '소프트웨어': 25, '제출': 17, '중요': 7, '푸시': 4, 'typescript': 11, 'keras': 8, '경력자': 9, '탄탄': 5, '유관': 10, '마이크로서비스': 5, '측정': 4, '인력': 6, '개선': 17, '아키텍쳐': 9, '우수': 7, '자동화': 48, '우대': 42, '디자인': 19, 'tdd': 18, '개발방법론': 5, '직무': 8, 'open': 6, '언어': 103, 'devops': 9, '오픈소스': 20, '진행': 15, '6년': 5, '구현': 37, '통합': 10, '전자공학': 4, 'orm': 11, '코드리뷰': 6, 'ruby': 11, 'experience': 22, '우대사항': 10, '쿼리': 14, '변화': 7, '해결': 36, '개발': 565, '의사': 4, '다양한': 58, '마인드': 8, '특성': 5, 's3': 8, '전산': 11, '운영경험': 6, '클레이튼': 4, '역량2': 4, '팀원들': 4, '서류': 9, '가능자': 20, 'elk': 5, '웹서비스': 9, '수행': 9, '논리적': 15, '문화': 15, 'matplotlib': 4, '객체지향': 4, '수시진행': 6, '고민': 9, '클라우드': 49, 'c++': 48, '수집': 4, 'shell': 5, '리눅스': 17, '파트': 5, 'c': 30, '원활': 11, '책임감': 17, '능숙한': 12, '개발경험': 14, '수상': 5, '작성': 50, '이력서': 8, '서버개발': 7, '관리': 25, '내용': 7, 'frontend': 5, '모바': 7, '업무': 52, '보유': 76, '관계형': 8, 'rails': 7, 'microservice': 4, '경력기술': 4, '모델링': 15, '사용경험': 6, 'server': 6, 'expect': 5, '숙련도': 7, '신규': 4, '구성': 16, '보유자': 10, '만한': 4, '검색': 7, 'hadoop': 9, '자격': 5, '프로젝트': 51, 'database': 13, 'service': 6, '어제': 5, 'elastic': 4, '실시간': 8, '적극적': 16, '가치': 4, '글로벌': 8, '과제': 5, '파이써닉하': 4, '숙련': 4, '3년': 53, 'docker': 44, '자격요건': 5, '확장성': 6, 'gcp': 27, '의거': 7, '프로세스': 21, '포함': 11, '시스템': 92, '동료들': 7, 'cloudwatch': 5, '코드': 71, 'pytorch': 22, '영상처리': 4, 'data': 21, '통계학': 7, 'grpc': 4, '소유자': 5, '학위': 21, '문제': 57, '주도적': 10, 'swarm': 5, 'graphql': 6, '시장': 4, '고객': 9, '협업': 48, '개발팀': 5, 'nginx': 8, '경험': 1016, 'html': 8, 'unreal': 4, 'system': 8, '공통': 5, '기본': 23, '처리': 58, 'framework': 36, '구조': 10, '배포': 34, '환경': 71, '서비스': 208, '블록체': 11, '머신러닝': 30, '데이터': 110, '자연어': 7, '연동': 6, 'airflow': 4, '동료': 14, '커뮤니케이션': 60, '성능': 26, '원활한': 24, 'unity': 6, '인프라': 24, 'flink': 4, '레거시': 4, '학사': 13, '기획': 15, 'oracle': 5, '사용': 191, '성장': 17, 'infrastructure': 14, '익숙': 46, 'scalable': 5, '엄격': 4, 'communication': 5, 'restful': 31, '보훈대상자': 7, 'design': 4, 'go': 18, '유닛': 4, 'jupyter': 4, 'orchestration': 5, '전반': 5, 'ec2': 11, '긍정적': 8, '파악': 8, '문법': 6, '빅데이터': 10, '기술': 121, '오늘': 5, 'front': 4, 'engineering': 6, '파이썬': 20, 'script': 7, '결과': 11, '도입': 6, '베이스': 4, '엔지니어링': 7, 'source': 6, '상용': 7, '외부': 5, '결제': 6, 'kafka': 11, '열정': 9, '인터뷰': 14, 'programming': 10, '과학': 5, '관련학과': 5, '최소': 17, '금융': 5, '배경': 6, '사람들': 5, '공학': 16, 'vuejs': 15, 'driven': 7, 'language': 5, '풍부': 5, 'spring': 33, '온라인': 7, '파이프라인': 9, '분석': 61, '해당': 9, 'angular': 5, '음성': 4, '무관': 18, 'library': 5, '근무': 6, '관련': 140, '라이브러리': 14, 'java': 85, '최종': 5, '리드': 4, 'golang': 6, '비정형': 4, '출시': 6, 'amazon': 8, 'confluence': 5, 'ml': 21, 'celery': 9, '지원': 13, '시각화': 6, 'grafana': 7, 'terraform': 6, 'unix': 4, '형상관리': 6, '통계': 16, '활용': 130, '3차원': 5, '개념': 4, '필요': 25, '아래': 4, '관심': 65, '비전': 5, '전공자': 21, '테스트': 71, '시간대': 4, 'postgresql': 20, '동작': 4, 'reactjs': 5, 'queue': 4, 'software': 6, 'elasticsearch': 19, '경험자': 67, 'test': 11, '해외': 4, '수준': 6, '의료': 8, '능숙': 43, 'spark': 18, '지원자': 4, '재미': 4, '기계학습': 11, '사람': 21, 'gateway': 6, '신입': 5, '로그': 7, '의사소통': 10, 'neptune': 4, '중급': 9, '합격자': 9, '자율주행': 4, 'redis': 18, '이미지': 5, '데이터베이스': 31, 'backend': 12, 'eg': 8, '러닝': 4, 'computer': 11, '알고리즘': 34, '1개': 17, '빌드': 5, 'platform': 5, 'rabbitmq': 4, '최적화': 35, '기본적': 23, '이오스': 4, '배치': 6, '서버': 65, '신기술': 5, '테스트코드': 5, 'deep': 13, '겸비': 4, 'linux': 32, 'git': 43, '4년': 4, '제품': 12, 'boot': 9, '모니터링': 8, 'etc': 12, '논문': 23, '능통자': 4, '실무': 40, '석사': 28, '엔진': 7, 'cd': 22, '끈기': 4, '장애': 6, 'development': 10, 'vision': 7, '기반': 98, 'neo4j': 5, '능통': 4, '제출서류': 7, 'k8s': 9, '단위': 13, '리팩토링': 6, 'ansible': 5, 'msa': 11, '가능': 99, '절차': 4, '대규모': 16, '애자': 8, 'jenkins': 10, '학습': 24, 'network': 17, '실제': 11, 'cloudfront': 6, '이용': 82, '튜닝': 4, 'nodejs': 29, 'lambda': 7, '소스': 5, 'pandas': 12, '자격증': 12, 'ros': 6, '다양': 6, 'nlp': 6, 'sql': 21, 'message': 4, 'node': 7, '전처리': 5, '이해': 226, '심사': 5, '추천': 4, '형식': 6, '정리': 4, '보안': 7, '성향': 4, '리뷰': 14, 'api': 72, '적용': 23, '개발자': 21, 'apache': 4, '유사한': 4, '스택': 8, '딥러닝': 40, 'django': 69, '소통': 17, '졸업': 5, '지향': 5, 'vcnc': 9, '채용시': 7, '능동적': 9, '프론트엔드': 21, 'javascript': 37, 'application': 6, '정의': 7, '워크': 8, '방법': 8, 'rdb': 9, 'html5': 6, 'r': 7, '효과적': 4, '예정': 9, '설명': 13, '과정': 9, '개발경력': 4, '의견': 12, 'laravel': 5, 'unit': 7, '지식': 91, '사용자': 12, '전공': 31, '애플리케이션': 5, '선호': 5, 'react': 21, 'ci': 29, '지속적': 18, 'game': 4, '자기주도적': 6, 'os': 13, '회사': 5, '방법론': 8, '영어': 27, 'css': 11, '이해도': 18, '채용': 8, '연구': 19, '5년': 22, '컴퓨터': 35, '코딩테스트': 8, '교육': 9, '전반적': 9, 'dynamodb': 7, '분야': 49, '학력': 15, '참여': 9, 'machine': 8, 'understanding': 7, '영상': 8, '깃허브': 5, '이슈': 4, '경우': 7, 'architecture': 10, '프로그래밍': 52, 'rds': 9, 'gpu': 4, '자료': 9, 'flask': 22, '인프': 4, 'rdbms': 31, '모델': 21, '자료구조': 12, 'container': 14, '자연어처리': 5, 'google': 13, 'app': 4, '모빌리티': 4, '조직': 5, '운영': 175, '커머스': 5, '유경험자': 13, '대응': 6, '컨테이너': 5, '기능': 6, '대용량': 63, 'db': 30, '생각': 6, '탁월': 5, 'tools': 4, '분산': 19, '1년': 25, 'security': 4, '구축': 84, '병렬': 4, 'kubernetes': 25, 'code': 11, '전달': 6, '비즈니스': 9, '스킬': 7, 'skills': 4, 'containerization': 4, '최신': 7, '게임': 8, 'ecs': 4, '학회': 7, '수학': 5, '포트폴리오': 7, 'ai': 24, 'etl': 7, '이더리움': 4, '콘텐츠': 5, 'tensorflow': 31, '문제해결': 9, 'oop': 5, '바탕': 6, '3개월': 9, '해결책': 9, '이론': 7, '웹사이트': 4, '오케스트레이션': 4, '태도': 4, '기초': 9, '도메인': 8, '합격': 6, 'jpa': 9, 'kaggle': 7, '관련한': 7, 'iot': 5, '프레임워크': 44, '최선': 4, '한해': 6, '프론트': 4, '리딩': 4, '법령': 7, '방식': 4, '트래픽': 31, '비동기': 7, '전문연구요원': 4, '요건': 4, '개발언어': 7, 'azure': 26, 'c#': 10, '프로세싱': 4, '유지보수': 7, 'management': 5, '산업': 8, '오버': 4, 'learning': 20, '3d': 5, '도전': 7, '전문': 4, '중심': 5, 'scala': 19, 'kotlin': 8, '백엔드': 49, '기술스택': 5, '컴퓨터공학': 22, '종류': 4, 'slack': 7, '복잡한': 4, 'scikitlearn': 4, 'nosql': 29, '습득': 7, '본인': 5, '실력': 18, '박사': 11, '역량': 28, 'mysql': 33, '의지': 7, '도움': 6, 'github': 14, 'ex': 6, '요구사항': 4, '프로덕트': 9, '거부감': 16, '전산학': 8, '자세': 9, '버전': 6, 'jira': 10, 'numpy': 5, '플랫폼': 19, 'vpc': 5, 'serverless': 6, '설계': 79, '상응': 8, 'http': 4, 'aws': 119, '작업': 7, '1가지': 6, 'pdf': 4, '아키텍처': 20, '데이터처리': 4, 'cloud': 23, '네트워크': 18, '입사시': 6, 'ui': 12, '노력': 6, '2년': 54, '스타트업': 9, '마케팅': 4, '대량': 4, '수습기간': 7, 'mongodb': 10, '가지': 6, '도커': 4, 'dom': 4, '어려움': 5, 'dl': 4, '로직': 5, 'python': 212, '코딩': 4, '경력': 137, '도구': 9, '능력': 114, '7년': 6, 'web': 22, '어플리케이션': 14, '프레': 7, '조기마감': 6, '소지': 7, 'sw': 6, '직군': 13, '스크립트': 6, 'rest': 20, 'php': 13, '페어': 4, '프로덕션': 4, '인공지능': 13, '프로그램': 12}\n"
     ]
    }
   ],
   "source": [
    "voca = set(tokens6_)\n",
    "voca = list(voca)\n",
    "\n",
    "a = {}\n",
    "for i in voca:\n",
    "    a[i] = tokens6.count(i)\n",
    "    \n",
    "print(a)"
   ]
  },
  {
   "cell_type": "code",
   "execution_count": null,
   "metadata": {},
   "outputs": [],
   "source": []
  }
 ],
 "metadata": {
  "kernelspec": {
   "display_name": "Python 3",
   "language": "python",
   "name": "python3"
  },
  "language_info": {
   "codemirror_mode": {
    "name": "ipython",
    "version": 3
   },
   "file_extension": ".py",
   "mimetype": "text/x-python",
   "name": "python",
   "nbconvert_exporter": "python",
   "pygments_lexer": "ipython3",
   "version": "3.7.2"
  }
 },
 "nbformat": 4,
 "nbformat_minor": 4
}
