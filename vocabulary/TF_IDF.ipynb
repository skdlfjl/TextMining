{
 "cells": [
  {
   "cell_type": "code",
   "execution_count": null,
   "metadata": {},
   "outputs": [],
   "source": [
    "## TF-IDF?"
   ]
  },
  {
   "cell_type": "code",
   "execution_count": 1,
   "metadata": {},
   "outputs": [
    {
     "name": "stdout",
     "output_type": "stream",
     "text": [
      "[(6, 243), (7, 210), (12, 144), (13, 143), (15, 114)]\n"
     ]
    }
   ],
   "source": [
    "import nltk\n",
    "import string\n",
    "import os\n",
    "\n",
    "from sklearn.feature_extraction.text import TfidfVectorizer\n",
    "from nltk.stem.porter import PorterStemmer\n",
    "\n",
    "# 파이썬개발자[6] 데이터엔지니어[7] 데이터사이언티스트[12] 머신러닝엔지니어[13] 빅데이터엔지니어[15]\n",
    "category = [6, 7, 12, 13, 15]\n",
    "\n",
    "# 각 카테고리의 데이터 개수(채용공고의 개수)를 가져와서 튜플형태로 저장한 뒤, 리스트에 넣는다\n",
    "category_len = []\n",
    "for category_num in category:\n",
    "    data = open('../category{0}.txt'.format(category_num), 'r', encoding = 'utf-8')\n",
    "    lines = data.readlines()  # 데이터 불러와서 line 단위로 넣는다\n",
    "    #print(len(lines))\n",
    "    tu = category_num, len(lines)\n",
    "    category_len.append(tu)\n",
    "    \n",
    "print(category_len )# ( 카테고리번호, 크롤링 데이터 개수 ) 모양의 튜플"
   ]
  },
  {
   "cell_type": "code",
   "execution_count": 2,
   "metadata": {},
   "outputs": [],
   "source": [
    "for category_num, data_num in category_len:\n",
    "    \n",
    "    data = open('../data_cleansing_final/cleansing_category{0}_list{1}.txt'.format(category_num, data_num), 'r', encoding = 'utf-8')\n",
    "    data = data.readlines()  # 데이터 불러와서 line 단위로 넣는다\n",
    "    \n",
    "    for i in range(len(data)):\n",
    "        data[i] = data[i].replace('\\n', '')    # 각 문장마다 들어있는 줄바꿈 기호 없애주기\n",
    "    \n",
    "    data = ' '.join(data)\n",
    "    \n",
    "    ## 각 변수에 저장하자\n",
    "    globals()['category{}'.format(category_num)] = data"
   ]
  }
 ],
 "metadata": {
  "kernelspec": {
   "display_name": "Python 3",
   "language": "python",
   "name": "python3"
  },
  "language_info": {
   "codemirror_mode": {
    "name": "ipython",
    "version": 3
   },
   "file_extension": ".py",
   "mimetype": "text/x-python",
   "name": "python",
   "nbconvert_exporter": "python",
   "pygments_lexer": "ipython3",
   "version": "3.7.2"
  }
 },
 "nbformat": 4,
 "nbformat_minor": 4
}
